{
 "cells": [
  {
   "cell_type": "code",
   "execution_count": 1,
   "metadata": {},
   "outputs": [],
   "source": [
    "import numpy as np"
   ]
  },
  {
   "cell_type": "code",
   "execution_count": null,
   "metadata": {},
   "outputs": [],
   "source": [
    "# --- RUNGE-KUTA 4\n",
    "def rk_4(X, F, t, dt):\n",
    "    k1 = F(X, t)\n",
    "    k2 = F(X + 0.5 * dt * k1, t + 0.5 * dt)\n",
    "    k3 = F(X + 0.5 * dt * k2, t + 0.5 * dt)\n",
    "    k4 = F(X + dt * k3, t + dt)\n",
    "    return X + (dt / 6) * (k1 + 2*k2 + 2*k3 + k4)\n",
    "#\n",
    "def tray_rk4(X0, u, N, dt): # numero de pasos\n",
    "    dim = X0.shape[0]            # Dimensión del problema\n",
    "    ts = np.arange(0, N+1) * dt  # CREO LA LISTA DE TIEMPOS\n",
    "    Xs = np.zeros((N+1, dim))    # CREO LA LISTA O MA\n",
    "    Xs[0] = X0                 # Impongo la condición inicial a t=0\n",
    "    for j in range(N):\n",
    "        Xs[j+1] = rk_4(Xs[j], u, ts[j], dt)\n",
    "    return ts, Xs\n"
   ]
  }
 ],
 "metadata": {
  "kernelspec": {
   "display_name": "base",
   "language": "python",
   "name": "python3"
  },
  "language_info": {
   "codemirror_mode": {
    "name": "ipython",
    "version": 3
   },
   "file_extension": ".py",
   "mimetype": "text/x-python",
   "name": "python",
   "nbconvert_exporter": "python",
   "pygments_lexer": "ipython3",
   "version": "3.12.2"
  }
 },
 "nbformat": 4,
 "nbformat_minor": 2
}
